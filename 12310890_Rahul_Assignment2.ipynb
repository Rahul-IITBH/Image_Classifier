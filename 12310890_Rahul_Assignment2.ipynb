{
 "cells": [
  {
   "cell_type": "code",
   "execution_count": 1,
   "metadata": {},
   "outputs": [],
   "source": [
    "import os\n",
    "import tensorflow as tf\n",
    "from tensorflow.keras.layers import Input, Dense, Flatten, Dropout, GlobalAveragePooling2D\n",
    "from tensorflow.keras.models import Model\n",
    "from tensorflow.keras.preprocessing.image import ImageDataGenerator\n",
    "from tensorflow.keras.optimizers import Adam\n",
    "import tensorflow_hub as hub"
   ]
  },
  {
   "cell_type": "code",
   "execution_count": 2,
   "metadata": {},
   "outputs": [
    {
     "data": {
      "text/plain": [
       "[PhysicalDevice(name='/physical_device:GPU:0', device_type='GPU')]"
      ]
     },
     "execution_count": 2,
     "metadata": {},
     "output_type": "execute_result"
    }
   ],
   "source": [
    "tf.config.list_physical_devices('GPU')"
   ]
  },
  {
   "cell_type": "code",
   "execution_count": 3,
   "metadata": {
    "id": "msj74LRQzzXd"
   },
   "outputs": [],
   "source": [
    "traindata = 'D:\\\\Study\\\\1st Semester\\\\Machine Learning\\\\Assignments\\\\Assignment2\\\\train'\n",
    "validationdata = 'D:\\\\Study\\\\1st Semester\\\\Machine Learning\\\\Assignments\\\\Assignment2\\\\validation'\n",
    "testdata = 'D:\\\\Study\\\\1st Semester\\\\Machine Learning\\\\Assignments\\\\Assignment2\\\\test\\\\test'"
   ]
  },
  {
   "cell_type": "code",
   "execution_count": 4,
   "metadata": {
    "colab": {
     "base_uri": "https://localhost:8080/"
    },
    "id": "L73vFlql0IXO",
    "outputId": "8a8ce5f1-73a1-4ec6-ab39-fea1ef8d755d"
   },
   "outputs": [
    {
     "name": "stdout",
     "output_type": "stream",
     "text": [
      "Found 20000 images belonging to 4 classes.\n",
      "Found 4000 images belonging to 4 classes.\n"
     ]
    }
   ],
   "source": [
    "# Define image data generators with augmentation\n",
    "train_datagen = ImageDataGenerator(\n",
    "    rescale=1./255,\n",
    "    rotation_range=20,\n",
    "    width_shift_range=0.2,\n",
    "    height_shift_range=0.2,\n",
    "    shear_range=0.2,\n",
    "    zoom_range=0.2,\n",
    "    horizontal_flip=True,\n",
    "    fill_mode='nearest'\n",
    ")\n",
    "\n",
    "valid_datagen = ImageDataGenerator(rescale=1./255)  # No augmentation for validation data\n",
    "\n",
    "train_generator = train_datagen.flow_from_directory(\n",
    "    traindata,\n",
    "    target_size=(224, 224),\n",
    "    batch_size=32,\n",
    "    class_mode='categorical'\n",
    ")\n",
    "\n",
    "valid_generator = valid_datagen.flow_from_directory(\n",
    "    validationdata,\n",
    "    target_size=(224, 224),\n",
    "    batch_size=32,\n",
    "    class_mode='categorical'\n",
    ")"
   ]
  },
  {
   "cell_type": "code",
   "execution_count": 5,
   "metadata": {
    "colab": {
     "base_uri": "https://localhost:8080/"
    },
    "id": "KI_Hj05RHeae",
    "outputId": "e50d8204-c5cc-483c-dce5-e7ee1f08043d"
   },
   "outputs": [
    {
     "name": "stdout",
     "output_type": "stream",
     "text": [
      "{'CNV': 0, 'DME': 1, 'DRUSEN': 2, 'NORMAL': 3}\n"
     ]
    }
   ],
   "source": [
    "class_mapping = train_generator.class_indices\n",
    "print(class_mapping)"
   ]
  },
  {
   "cell_type": "code",
   "execution_count": 6,
   "metadata": {
    "id": "DCqUFMOpGpaW"
   },
   "outputs": [],
   "source": [
    "from tensorflow.keras.applications import InceptionV3\n",
    "input_shape = (224, 224, 3)\n",
    "num_classes = 4\n",
    "model_inception = InceptionV3(include_top=False, weights='imagenet', input_shape=input_shape)\n",
    "for layer in model_inception.layers:\n",
    "    layer.trainable = False\n",
    "x = model_inception.output\n",
    "x = Flatten()(x)\n",
    "x = Dense(512, activation='relu')(x)\n",
    "x = Dropout(0.3)(x)\n",
    "x = Dense(256, activation='relu')(x)\n",
    "x = Dropout(0.5)(x)\n",
    "predictions = Dense(num_classes, activation='softmax')(x)\n",
    "model_inception_modified = Model(inputs=model_inception.input, outputs=predictions)\n",
    "lr_schedule = tf.keras.optimizers.schedules.ExponentialDecay(\n",
    "    initial_learning_rate=0.01,\n",
    "    decay_steps=1000,\n",
    "    decay_rate=0.9\n",
    ")\n",
    "model_inception_modified.compile(optimizer=Adam(learning_rate=lr_schedule), loss='categorical_crossentropy', metrics=['accuracy'])"
   ]
  },
  {
   "cell_type": "code",
   "execution_count": 7,
   "metadata": {
    "colab": {
     "base_uri": "https://localhost:8080/"
    },
    "id": "ztJ3JTlJG0AV",
    "outputId": "92d15cb3-bb31-4bb0-eb6a-654256988b31",
    "scrolled": true
   },
   "outputs": [
    {
     "name": "stdout",
     "output_type": "stream",
     "text": [
      "Epoch 1/6\n",
      "625/625 [==============================] - 910s 1s/step - loss: 6.6185 - accuracy: 0.2736 - val_loss: 1.3865 - val_accuracy: 0.2500\n",
      "Epoch 2/6\n",
      "625/625 [==============================] - 696s 1s/step - loss: 1.3965 - accuracy: 0.2506 - val_loss: 1.3863 - val_accuracy: 0.2500\n",
      "Epoch 3/6\n",
      "625/625 [==============================] - 712s 1s/step - loss: 1.3914 - accuracy: 0.2458 - val_loss: 1.3865 - val_accuracy: 0.2500\n",
      "Epoch 4/6\n",
      "625/625 [==============================] - 759s 1s/step - loss: 1.3881 - accuracy: 0.2507 - val_loss: 1.3871 - val_accuracy: 0.2500\n",
      "Epoch 5/6\n",
      "625/625 [==============================] - 659s 1s/step - loss: 1.3899 - accuracy: 0.2412 - val_loss: 1.3863 - val_accuracy: 0.2500\n",
      "Epoch 6/6\n",
      "625/625 [==============================] - 672s 1s/step - loss: 1.3887 - accuracy: 0.2480 - val_loss: 1.3868 - val_accuracy: 0.2500\n"
     ]
    },
    {
     "data": {
      "text/plain": [
       "<keras.callbacks.History at 0x2a618f59120>"
      ]
     },
     "execution_count": 7,
     "metadata": {},
     "output_type": "execute_result"
    }
   ],
   "source": [
    "model_inception_modified.fit(\n",
    "    train_generator,\n",
    "    steps_per_epoch=train_generator.samples // 32,\n",
    "    validation_data=valid_generator,\n",
    "    epochs=6,\n",
    "    verbose=1\n",
    ")"
   ]
  },
  {
   "cell_type": "code",
   "execution_count": 8,
   "metadata": {
    "colab": {
     "base_uri": "https://localhost:8080/"
    },
    "id": "sKOmCR-CCBjD",
    "outputId": "b5e0a9bd-83a4-4394-9924-42dd4b075fce"
   },
   "outputs": [
    {
     "name": "stdout",
     "output_type": "stream",
     "text": [
      "Downloading data from https://storage.googleapis.com/tensorflow/keras-applications/densenet/densenet121_weights_tf_dim_ordering_tf_kernels_notop.h5\n",
      "29084464/29084464 [==============================] - 7s 0us/step\n"
     ]
    }
   ],
   "source": [
    "from tensorflow.keras.applications import DenseNet121\n",
    "from tensorflow.keras.layers import Dense\n",
    "\n",
    "# Load pre-trained DenseNet121 model without top layers (include_top=False)\n",
    "base_model = DenseNet121(weights='imagenet', include_top=False, input_shape=(224, 224, 3))\n",
    "\n",
    "# Freeze convolutional layers\n",
    "for layer in base_model.layers:\n",
    "    layer.trainable = False\n",
    "\n",
    "# Add custom classification layers\n",
    "x = GlobalAveragePooling2D()(base_model.output)\n",
    "x = Dense(512, activation='relu')(x)\n",
    "x = Dropout(0.3)(x)\n",
    "x = Dense(256, activation='relu')(x)\n",
    "x = Dropout(0.5)(x)\n",
    "predictions = Dense(4, activation='softmax')(x)  # num_classes is the number of classes in your dataset\n",
    "\n",
    "# Create model\n",
    "model_densenet = Model(inputs=base_model.input, outputs=predictions)\n",
    "\n",
    "# Compile the model\n",
    "lr_schedule = tf.keras.optimizers.schedules.ExponentialDecay(\n",
    "    initial_learning_rate=0.01,\n",
    "    decay_steps=1000,\n",
    "    decay_rate=0.9\n",
    ")\n",
    "model_densenet.compile(optimizer=Adam(learning_rate=lr_schedule), loss='categorical_crossentropy', metrics=['accuracy'])"
   ]
  },
  {
   "cell_type": "code",
   "execution_count": 9,
   "metadata": {
    "colab": {
     "base_uri": "https://localhost:8080/"
    },
    "id": "q7cCI6xznfPT",
    "outputId": "cd71e9bf-5aa2-4c5b-9105-124fc9508c4c",
    "scrolled": true
   },
   "outputs": [
    {
     "name": "stdout",
     "output_type": "stream",
     "text": [
      "Epoch 1/10\n",
      "625/625 [==============================] - 816s 1s/step - loss: 1.2010 - accuracy: 0.4853 - val_loss: 0.8995 - val_accuracy: 0.6370\n",
      "Epoch 2/10\n",
      "625/625 [==============================] - 671s 1s/step - loss: 1.0473 - accuracy: 0.5264 - val_loss: 0.9535 - val_accuracy: 0.6148\n",
      "Epoch 3/10\n",
      "625/625 [==============================] - 692s 1s/step - loss: 1.0297 - accuracy: 0.5478 - val_loss: 0.8470 - val_accuracy: 0.6470\n",
      "Epoch 4/10\n",
      "625/625 [==============================] - 486s 778ms/step - loss: 1.0045 - accuracy: 0.5688 - val_loss: 0.8470 - val_accuracy: 0.6787\n",
      "Epoch 5/10\n",
      "625/625 [==============================] - 441s 705ms/step - loss: 1.0000 - accuracy: 0.5706 - val_loss: 0.8593 - val_accuracy: 0.6870\n",
      "Epoch 6/10\n",
      "625/625 [==============================] - 487s 780ms/step - loss: 0.9978 - accuracy: 0.5708 - val_loss: 0.8134 - val_accuracy: 0.6955\n",
      "Epoch 7/10\n",
      "625/625 [==============================] - 556s 889ms/step - loss: 0.9845 - accuracy: 0.5824 - val_loss: 0.8123 - val_accuracy: 0.6982\n",
      "Epoch 8/10\n",
      "625/625 [==============================] - 626s 1s/step - loss: 0.9975 - accuracy: 0.5770 - val_loss: 0.8041 - val_accuracy: 0.6992\n",
      "Epoch 9/10\n",
      "625/625 [==============================] - 343s 549ms/step - loss: 0.9811 - accuracy: 0.5908 - val_loss: 0.7946 - val_accuracy: 0.6977\n",
      "Epoch 10/10\n",
      "625/625 [==============================] - 363s 581ms/step - loss: 0.9792 - accuracy: 0.5911 - val_loss: 0.8515 - val_accuracy: 0.6612\n"
     ]
    },
    {
     "data": {
      "text/plain": [
       "<keras.callbacks.History at 0x20891403b50>"
      ]
     },
     "execution_count": 9,
     "metadata": {},
     "output_type": "execute_result"
    }
   ],
   "source": [
    "# Train the model\n",
    "model_densenet.fit(\n",
    "    train_generator,\n",
    "    steps_per_epoch=train_generator.samples // 32,\n",
    "    validation_data=valid_generator,\n",
    "    validation_steps=valid_generator.samples // 32,\n",
    "    epochs=10,\n",
    "    verbose=1\n",
    ")"
   ]
  },
  {
   "cell_type": "code",
   "execution_count": 10,
   "metadata": {
    "colab": {
     "base_uri": "https://localhost:8080/"
    },
    "id": "B0QYPEx5xr0v",
    "outputId": "21a8602a-8cac-4de7-93d2-dbf5cb93d0bd"
   },
   "outputs": [
    {
     "name": "stdout",
     "output_type": "stream",
     "text": [
      "Downloading data from https://storage.googleapis.com/tensorflow/keras-applications/mobilenet_v2/mobilenet_v2_weights_tf_dim_ordering_tf_kernels_1.0_224_no_top.h5\n",
      "9406464/9406464 [==============================] - 1s 0us/step\n"
     ]
    }
   ],
   "source": [
    "from tensorflow.keras.applications import MobileNetV2\n",
    "\n",
    "# Load pre-trained MobileNetV2 model without top layers\n",
    "base_model = MobileNetV2(weights='imagenet', include_top=False, input_shape=(224, 224, 3))\n",
    "\n",
    "# Freeze convolutional layers\n",
    "for layer in base_model.layers:\n",
    "    layer.trainable = False\n",
    "\n",
    "# Add custom classification layers\n",
    "x = GlobalAveragePooling2D()(base_model.output)\n",
    "x = Dense(512, activation='relu')(x)\n",
    "x = Dropout(0.3)(x)\n",
    "x = Dense(256, activation='relu')(x)\n",
    "x = Dropout(0.5)(x)\n",
    "predictions = Dense(4, activation='softmax')(x)  # num_classes is the number of classes in your dataset\n",
    "\n",
    "# Create model\n",
    "model_mobilenet = Model(inputs=base_model.input, outputs=predictions)\n",
    "\n",
    "# Compile the model\n",
    "lr_schedule = tf.keras.optimizers.schedules.ExponentialDecay(\n",
    "    initial_learning_rate=0.01,\n",
    "    decay_steps=1000,\n",
    "    decay_rate=0.9\n",
    ")\n",
    "model_mobilenet.compile(optimizer=Adam(learning_rate=lr_schedule), loss='categorical_crossentropy', metrics=['accuracy'])"
   ]
  },
  {
   "cell_type": "code",
   "execution_count": 11,
   "metadata": {
    "colab": {
     "base_uri": "https://localhost:8080/"
    },
    "id": "d1ghej2LxywX",
    "outputId": "33e6ec73-eba6-4873-f2dd-1145e30579a0"
   },
   "outputs": [
    {
     "name": "stdout",
     "output_type": "stream",
     "text": [
      "Epoch 1/6\n",
      "625/625 [==============================] - 296s 465ms/step - loss: 1.1922 - accuracy: 0.5611 - val_loss: 0.7691 - val_accuracy: 0.7318\n",
      "Epoch 2/6\n",
      "625/625 [==============================] - 278s 445ms/step - loss: 0.9754 - accuracy: 0.6001 - val_loss: 0.7809 - val_accuracy: 0.7377\n",
      "Epoch 3/6\n",
      "625/625 [==============================] - 277s 443ms/step - loss: 0.9517 - accuracy: 0.6132 - val_loss: 0.8100 - val_accuracy: 0.7228\n",
      "Epoch 4/6\n",
      "625/625 [==============================] - 275s 440ms/step - loss: 0.9695 - accuracy: 0.6040 - val_loss: 0.8014 - val_accuracy: 0.7017\n",
      "Epoch 5/6\n",
      "625/625 [==============================] - 274s 438ms/step - loss: 0.9568 - accuracy: 0.6128 - val_loss: 0.7804 - val_accuracy: 0.7272\n",
      "Epoch 6/6\n",
      "625/625 [==============================] - 277s 443ms/step - loss: 0.9427 - accuracy: 0.6210 - val_loss: 0.7326 - val_accuracy: 0.7650\n"
     ]
    },
    {
     "data": {
      "text/plain": [
       "<keras.callbacks.History at 0x208cab312a0>"
      ]
     },
     "execution_count": 11,
     "metadata": {},
     "output_type": "execute_result"
    }
   ],
   "source": [
    "# Train the model\n",
    "model_mobilenet.fit(\n",
    "    train_generator,\n",
    "    steps_per_epoch=train_generator.samples // 32,\n",
    "    validation_data=valid_generator,\n",
    "    epochs=6,\n",
    "    verbose=1\n",
    ")"
   ]
  },
  {
   "cell_type": "code",
   "execution_count": 12,
   "metadata": {
    "colab": {
     "base_uri": "https://localhost:8080/"
    },
    "id": "XaGSuxGvss_6",
    "outputId": "4b39bddf-9a97-478a-e4ff-3e4391c04d07"
   },
   "outputs": [
    {
     "name": "stdout",
     "output_type": "stream",
     "text": [
      "Found 10000 images belonging to 1 classes.\n"
     ]
    }
   ],
   "source": [
    "test_generator = train_datagen.flow_from_directory(\n",
    "     'D:\\\\Study\\\\1st Semester\\\\Machine Learning\\\\Assignments\\\\Assignment2\\\\test',\n",
    "     target_size=(256,256),\n",
    "    batch_size=32,\n",
    "    class_mode= None)"
   ]
  },
  {
   "cell_type": "code",
   "execution_count": 13,
   "metadata": {
    "colab": {
     "base_uri": "https://localhost:8080/"
    },
    "id": "pjGI0MlyLIOw",
    "outputId": "56a6a66c-b497-4df6-ac18-f8e19cb46b6c"
   },
   "outputs": [
    {
     "name": "stdout",
     "output_type": "stream",
     "text": [
      "{'CNV': 0, 'DME': 1, 'DRUSEN': 2, 'NORMAL': 3, 0: 'CNV', 1: 'DME', 2: 'DRUSEN', 3: 'NORMAL'}\n"
     ]
    }
   ],
   "source": [
    "class_mapping= {v: k for k, v in class_mapping.items()}\n",
    "class_mapping[0]='CNV'\n",
    "class_mapping[1]='DME'\n",
    "class_mapping[2]='DRUSEN'\n",
    "class_mapping[3]='NORMAL'\n",
    "print(class_mapping)"
   ]
  },
  {
   "cell_type": "code",
   "execution_count": null,
   "metadata": {},
   "outputs": [],
   "source": [
    "import numpy as np\n",
    "import csv\n",
    "predictions = model_mobilenet.predict(test_generator)\n",
    "predicted_labels = np.argmax(predictions, axis=1)\n",
    "predicted_class_names = [class_mapping[label] for label in predicted_labels]\n",
    "with open('Rahul_12310890.csv', 'w', newline='') as csvfile:\n",
    "    writer = csv.writer(csvfile)\n",
    "    writer.writerows([[label] for label in predicted_class_names])"
   ]
  }
 ],
 "metadata": {
  "accelerator": "GPU",
  "colab": {
   "gpuType": "T4",
   "provenance": []
  },
  "kernelspec": {
   "display_name": "Python 3 (ipykernel)",
   "language": "python",
   "name": "python3"
  },
  "language_info": {
   "codemirror_mode": {
    "name": "ipython",
    "version": 3
   },
   "file_extension": ".py",
   "mimetype": "text/x-python",
   "name": "python",
   "nbconvert_exporter": "python",
   "pygments_lexer": "ipython3",
   "version": "3.11.5"
  }
 },
 "nbformat": 4,
 "nbformat_minor": 4
}
